{
 "cells": [
  {
   "cell_type": "code",
   "execution_count": null,
   "metadata": {},
   "outputs": [
    {
     "ename": "error",
     "evalue": "Only one local in-process GUI/GUI_SERVER connection allowed. Use DIRECT connection mode or start a separate GUI physics server (ExampleBrowser, App_SharedMemoryPhysics_GUI, App_SharedMemoryPhysics_VR) and connect over SHARED_MEMORY, UDP or TCP instead.",
     "output_type": "error",
     "traceback": [
      "\u001b[0;31m---------------------------------------------------------------------------\u001b[0m",
      "\u001b[0;31merror\u001b[0m                                     Traceback (most recent call last)",
      "Cell \u001b[0;32mIn[2], line 4\u001b[0m\n\u001b[1;32m      2\u001b[0m \u001b[38;5;28;01mimport\u001b[39;00m \u001b[38;5;21;01mrandom\u001b[39;00m\n\u001b[1;32m      3\u001b[0m \u001b[38;5;66;03m# Initialize the simulation with a specified number of agents\u001b[39;00m\n\u001b[0;32m----> 4\u001b[0m sim \u001b[38;5;241m=\u001b[39m \u001b[43mSimulation\u001b[49m\u001b[43m(\u001b[49m\u001b[43mnum_agents\u001b[49m\u001b[38;5;241;43m=\u001b[39;49m\u001b[38;5;241;43m1\u001b[39;49m\u001b[43m)\u001b[49m  \u001b[38;5;66;03m# For two robots\u001b[39;00m\n\u001b[1;32m      6\u001b[0m \u001b[38;5;66;03m# Run the simulation for a specified number of steps\u001b[39;00m\n\u001b[1;32m      7\u001b[0m \u001b[38;5;28;01mfor\u001b[39;00m i \u001b[38;5;129;01min\u001b[39;00m \u001b[38;5;28mrange\u001b[39m(\u001b[38;5;241m30\u001b[39m):\n\u001b[1;32m      8\u001b[0m         \u001b[38;5;66;03m# Example action: Move joints with specific velocities\u001b[39;00m\n",
      "File \u001b[0;32m~/Desktop/Code/BUas/Y2B-2023-OT2_Twin/sim_class.py:20\u001b[0m, in \u001b[0;36mSimulation.__init__\u001b[0;34m(self, num_agents, render, rgb_array)\u001b[0m\n\u001b[1;32m     18\u001b[0m     mode \u001b[38;5;241m=\u001b[39m p\u001b[38;5;241m.\u001b[39mDIRECT \u001b[38;5;66;03m# for non-graphical version\u001b[39;00m\n\u001b[1;32m     19\u001b[0m \u001b[38;5;66;03m# Set up the simulation\u001b[39;00m\n\u001b[0;32m---> 20\u001b[0m \u001b[38;5;28mself\u001b[39m\u001b[38;5;241m.\u001b[39mphysicsClient \u001b[38;5;241m=\u001b[39m \u001b[43mp\u001b[49m\u001b[38;5;241;43m.\u001b[39;49m\u001b[43mconnect\u001b[49m\u001b[43m(\u001b[49m\u001b[43mmode\u001b[49m\u001b[43m)\u001b[49m\n\u001b[1;32m     21\u001b[0m \u001b[38;5;66;03m# Hide the default GUI components\u001b[39;00m\n\u001b[1;32m     22\u001b[0m p\u001b[38;5;241m.\u001b[39mconfigureDebugVisualizer(p\u001b[38;5;241m.\u001b[39mCOV_ENABLE_GUI, \u001b[38;5;241m0\u001b[39m)\n",
      "\u001b[0;31merror\u001b[0m: Only one local in-process GUI/GUI_SERVER connection allowed. Use DIRECT connection mode or start a separate GUI physics server (ExampleBrowser, App_SharedMemoryPhysics_GUI, App_SharedMemoryPhysics_VR) and connect over SHARED_MEMORY, UDP or TCP instead."
     ]
    },
    {
     "ename": "",
     "evalue": "",
     "output_type": "error",
     "traceback": [
      "\u001b[1;31mThe Kernel crashed while executing code in the current cell or a previous cell. \n",
      "\u001b[1;31mPlease review the code in the cell(s) to identify a possible cause of the failure. \n",
      "\u001b[1;31mClick <a href='https://aka.ms/vscodeJupyterKernelCrash'>here</a> for more info. \n",
      "\u001b[1;31mView Jupyter <a href='command:jupyter.viewOutput'>log</a> for further details."
     ]
    }
   ],
   "source": [
    "from sim_class import Simulation\n",
    "import random\n",
    "# Initialize the simulation with a specified number of agents\n",
    "sim = Simulation(num_agents=1)  # For two robots\n",
    "\n",
    "# Run the simulation for a specified number of steps\n",
    "for i in range(30):\n",
    "        # Example action: Move joints with specific velocities\n",
    "        velocity_x = random.uniform(-0.5, 0.1)\n",
    "        velocity_y = random.uniform(-0.5, 0.5)\n",
    "        velocity_z = random.uniform(-0.5, 0.5)\n",
    "        drop_command = random.randint(0, 1)\n",
    "\n",
    "        actions = [[velocity_x, velocity_y, velocity_z, drop_command],\n",
    "                [velocity_x, velocity_y, velocity_z, drop_command]]\n",
    "\n",
    "        sim.run(actions)\n"
   ]
  }
 ],
 "metadata": {
  "kernelspec": {
   "display_name": "Python 3",
   "language": "python",
   "name": "python3"
  },
  "language_info": {
   "codemirror_mode": {
    "name": "ipython",
    "version": 3
   },
   "file_extension": ".py",
   "mimetype": "text/x-python",
   "name": "python",
   "nbconvert_exporter": "python",
   "pygments_lexer": "ipython3",
   "version": "3.10.4"
  }
 },
 "nbformat": 4,
 "nbformat_minor": 2
}
